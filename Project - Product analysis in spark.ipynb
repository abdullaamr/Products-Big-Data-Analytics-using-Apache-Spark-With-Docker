{
 "cells": [
  {
   "cell_type": "markdown",
   "id": "eleven-wrapping",
   "metadata": {},
   "source": [
    "# Project - Product analysis in spark\n",
    "\n",
    "## Abstract\n",
    "The objective of this project is to analyse various datasets in PySpark about commercial\n",
    "products and rating of e-commerce website NewChic.com.<br>\n",
    "\n",
    "## Overview of the datasets:\n",
    "For this project there are three csv files one for each product\n",
    "1. Shoe products \n",
    "2. Jewelry products\n",
    "3. Accessories <br>\n",
    "\n",
    "#### Features\n",
    "- Category (men, accessory, jewelry, etc)\n",
    "- Subcategory type of catgeory\n",
    "- name of the product\n",
    "- current price : price listed on the website\n",
    "- raw price : total price of the product before any discounts(i.e original price of the product)\n",
    "- discounts\n",
    "- Currency (currency of which the price listed in)\n",
    "- likes count : popularity of the product\n",
    "- isnew : tells whether the product is used or not (Binary value true or false)\n",
    "\n",
    "## Tasks:\n",
    "- ### Task 1 : Extract Data<br>\n",
    "        \n",
    "    1. Import the necessary packages and start your spark session\n",
    "    2. load the 3 datasets into 1 dataframe.\n",
    "    3. Print the schema\n",
    "    \n",
    "<br>\n",
    "\n",
    "- ### Task 2 : Data Transformation\n",
    "\n",
    "    Building more features to help analyse each product For these tasks I will be\n",
    "    create more columns to help get a better understanding of each product.\n",
    "    First create functions which would take the dataframe as its input and return a new dataframe containing the following columns:\n",
    "    1. Average price of each category\n",
    "    2. Average price of each subcategory\n",
    "    3. Average discount of each category \n",
    "    4. Average discount of each subcategory \n",
    "    5. Average likes of each category\n",
    "    6. Average likes of each subcategory\n",
    "    7. Rank of the likes of each subcategory\n",
    "    8. Dense rank of the likes of each subcategory\n",
    "    9. Rank of the likes of each category\n",
    "    10. Dense rank of the likes of each category\n",
    "    11. Rank of the discount of each category\n",
    "    12. Dense rank of the discounts of each category\n",
    "    13. Sum of the unused products in each category\n",
    "    14. Sum of the unused products in subcategory.\n",
    "    \n",
    "  Call the functions i created to create the new columns and Print the schema of the dataframe to check column created.\n",
    "    \n",
    "<br>\n",
    "\n",
    "- ### Task 3- Analysis\n",
    "\n",
    "    Utilising the newly created features to answer some questions. For this task, use the\n",
    "    dataframe API to answer the following questions.<br>\n",
    "    \n",
    "    1. Which type of product is the least popular with the users? (tip - find the feature which\n",
    "       demonstrates the popularity of a product)\n",
    "    2. Which type of product is the most popular with the users?\n",
    "    3. Which subcategory product is the most popular with the users?\n",
    "    4. Which subcategory product is the least popular with the users?\n",
    "    5. In the accessory products, which subcategory was the most expensive?\n",
    "    6. Which type of product had the highest discount offerings?\n",
    "    7. Which type of product had the lowest discount offerings ?\n",
    "    8. In the shoe's products, which subcategory was the most common?\n",
    "    9. Which type of product had the most unused products listed for sale?\n",
    "    10. Which subcategory product had the most unused products listed for sale?\n",
    "    \n",
    "<br>\n",
    "    \n",
    "- ### Task 4- Load Data to postgres database<br>\n",
    "using Docker Image to set Postgresql DBMS Enviroment to load the data\n",
    "\n",
    "    1. create a new database\n",
    "    2. subsequently mount a new folder.\n",
    "    3. Load your dataframes as 3 different tables in the database."
   ]
  },
  {
   "cell_type": "markdown",
   "id": "subjective-powell",
   "metadata": {},
   "source": [
    "# Tasks\n",
    "## Task 1 : Extract Data\n",
    "1. Import Libs and start spark session"
   ]
  },
  {
   "cell_type": "code",
   "execution_count": 1,
   "id": "desperate-decimal",
   "metadata": {
    "ExecuteTime": {
     "end_time": "2023-02-04T13:43:24.103631Z",
     "start_time": "2023-02-04T13:43:23.781187Z"
    }
   },
   "outputs": [],
   "source": [
    "from pyspark import SparkConf, SparkContext\n",
    "from pyspark.sql import SparkSession\n",
    "from pyspark.sql import functions as fn\n",
    "from pyspark.sql import Window\n",
    "from datetime import date"
   ]
  },
  {
   "cell_type": "markdown",
   "id": "acoustic-genesis",
   "metadata": {},
   "source": [
    "2. Start Spark Session"
   ]
  },
  {
   "cell_type": "code",
   "execution_count": 2,
   "id": "located-spyware",
   "metadata": {
    "ExecuteTime": {
     "end_time": "2023-02-04T13:43:30.655693Z",
     "start_time": "2023-02-04T13:43:24.108129Z"
    }
   },
   "outputs": [],
   "source": [
    "# conf spark session\n",
    "spark = (SparkSession \\\n",
    "    .builder \\\n",
    "    .appName(\"project\") \\\n",
    "    .config(\"spark.jars\", \"/opt/polynote/notebooks/jdbc files/postgresql-42.5.1.jar\") \\\n",
    "    .master('local[*]')\\\n",
    "    .getOrCreate()\n",
    ")\n",
    "# start spark context\n",
    "sc = SparkContext"
   ]
  },
  {
   "cell_type": "markdown",
   "id": "funny-expression",
   "metadata": {},
   "source": [
    "3. Load Datasets into DataFrames and print schemas"
   ]
  },
  {
   "cell_type": "code",
   "execution_count": 3,
   "id": "organized-vancouver",
   "metadata": {
    "ExecuteTime": {
     "end_time": "2023-02-04T13:43:37.995600Z",
     "start_time": "2023-02-04T13:43:30.666962Z"
    }
   },
   "outputs": [],
   "source": [
    "df_shoe = spark.read.csv(\"./Datasets/shoes.csv\", header = True, inferSchema = True)"
   ]
  },
  {
   "cell_type": "code",
   "execution_count": 4,
   "id": "textile-philadelphia",
   "metadata": {
    "ExecuteTime": {
     "end_time": "2023-02-04T13:43:38.080286Z",
     "start_time": "2023-02-04T13:43:37.999989Z"
    }
   },
   "outputs": [
    {
     "name": "stdout",
     "output_type": "stream",
     "text": [
      "root\n",
      " |-- category: string (nullable = true)\n",
      " |-- subcategory: string (nullable = true)\n",
      " |-- name: string (nullable = true)\n",
      " |-- current_price: double (nullable = true)\n",
      " |-- raw_price: double (nullable = true)\n",
      " |-- currency: string (nullable = true)\n",
      " |-- discount: integer (nullable = true)\n",
      " |-- likes_count: integer (nullable = true)\n",
      " |-- is_new: boolean (nullable = true)\n",
      " |-- brand: string (nullable = true)\n",
      " |-- brand_url: string (nullable = true)\n",
      " |-- codCountry: string (nullable = true)\n",
      " |-- variation_0_color: string (nullable = true)\n",
      " |-- variation_1_color: string (nullable = true)\n",
      " |-- variation_0_thumbnail: string (nullable = true)\n",
      " |-- variation_0_image: string (nullable = true)\n",
      " |-- variation_1_thumbnail: string (nullable = true)\n",
      " |-- variation_1_image: string (nullable = true)\n",
      " |-- image_url: string (nullable = true)\n",
      " |-- url: string (nullable = true)\n",
      " |-- id: integer (nullable = true)\n",
      " |-- model: string (nullable = true)\n",
      "\n"
     ]
    }
   ],
   "source": [
    "df_shoe.printSchema()"
   ]
  },
  {
   "cell_type": "code",
   "execution_count": 5,
   "id": "pleasant-crystal",
   "metadata": {
    "ExecuteTime": {
     "end_time": "2023-02-04T13:43:38.909193Z",
     "start_time": "2023-02-04T13:43:38.090654Z"
    }
   },
   "outputs": [],
   "source": [
    "df_jewel = spark.read.csv(\"./Datasets/jewelry.csv\", header = True, inferSchema = True)"
   ]
  },
  {
   "cell_type": "code",
   "execution_count": 6,
   "id": "sophisticated-breast",
   "metadata": {
    "ExecuteTime": {
     "end_time": "2023-02-04T13:43:38.929702Z",
     "start_time": "2023-02-04T13:43:38.912450Z"
    }
   },
   "outputs": [
    {
     "name": "stdout",
     "output_type": "stream",
     "text": [
      "root\n",
      " |-- category: string (nullable = true)\n",
      " |-- subcategory: string (nullable = true)\n",
      " |-- name: string (nullable = true)\n",
      " |-- current_price: double (nullable = true)\n",
      " |-- raw_price: double (nullable = true)\n",
      " |-- currency: string (nullable = true)\n",
      " |-- discount: integer (nullable = true)\n",
      " |-- likes_count: integer (nullable = true)\n",
      " |-- is_new: boolean (nullable = true)\n",
      " |-- brand: string (nullable = true)\n",
      " |-- brand_url: string (nullable = true)\n",
      " |-- codCountry: string (nullable = true)\n",
      " |-- variation_0_color: string (nullable = true)\n",
      " |-- variation_1_color: string (nullable = true)\n",
      " |-- variation_0_thumbnail: string (nullable = true)\n",
      " |-- variation_0_image: string (nullable = true)\n",
      " |-- variation_1_thumbnail: string (nullable = true)\n",
      " |-- variation_1_image: string (nullable = true)\n",
      " |-- image_url: string (nullable = true)\n",
      " |-- url: string (nullable = true)\n",
      " |-- id: integer (nullable = true)\n",
      " |-- model: string (nullable = true)\n",
      "\n"
     ]
    }
   ],
   "source": [
    "df_jewel.printSchema()"
   ]
  },
  {
   "cell_type": "code",
   "execution_count": 7,
   "id": "peaceful-condition",
   "metadata": {
    "ExecuteTime": {
     "end_time": "2023-02-04T13:43:39.940584Z",
     "start_time": "2023-02-04T13:43:38.939874Z"
    }
   },
   "outputs": [],
   "source": [
    "df_accessories = spark.read.csv(\"./Datasets/accessories.csv\", header = True, inferSchema = True)"
   ]
  },
  {
   "cell_type": "code",
   "execution_count": 8,
   "id": "spiritual-anchor",
   "metadata": {
    "ExecuteTime": {
     "end_time": "2023-02-04T13:43:39.962386Z",
     "start_time": "2023-02-04T13:43:39.945963Z"
    }
   },
   "outputs": [
    {
     "name": "stdout",
     "output_type": "stream",
     "text": [
      "root\n",
      " |-- category: string (nullable = true)\n",
      " |-- subcategory: string (nullable = true)\n",
      " |-- name: string (nullable = true)\n",
      " |-- current_price: double (nullable = true)\n",
      " |-- raw_price: double (nullable = true)\n",
      " |-- currency: string (nullable = true)\n",
      " |-- discount: integer (nullable = true)\n",
      " |-- likes_count: integer (nullable = true)\n",
      " |-- is_new: boolean (nullable = true)\n",
      " |-- brand: string (nullable = true)\n",
      " |-- brand_url: string (nullable = true)\n",
      " |-- codCountry: string (nullable = true)\n",
      " |-- variation_0_color: string (nullable = true)\n",
      " |-- variation_1_color: string (nullable = true)\n",
      " |-- variation_0_thumbnail: string (nullable = true)\n",
      " |-- variation_0_image: string (nullable = true)\n",
      " |-- variation_1_thumbnail: string (nullable = true)\n",
      " |-- variation_1_image: string (nullable = true)\n",
      " |-- image_url: string (nullable = true)\n",
      " |-- url: string (nullable = true)\n",
      " |-- id: integer (nullable = true)\n",
      " |-- model: string (nullable = true)\n",
      "\n"
     ]
    }
   ],
   "source": [
    "df_accessories.printSchema()"
   ]
  },
  {
   "cell_type": "markdown",
   "id": "champion-driving",
   "metadata": {},
   "source": [
    "4. Load All Data Into Main DataFrame"
   ]
  },
  {
   "cell_type": "code",
   "execution_count": 9,
   "id": "arabic-arctic",
   "metadata": {
    "ExecuteTime": {
     "end_time": "2023-02-04T13:43:40.111369Z",
     "start_time": "2023-02-04T13:43:39.966843Z"
    }
   },
   "outputs": [],
   "source": [
    "# union all dfs into one df\n",
    "df = df_shoe.union(df_jewel)\n",
    "df = df.union(df_accessories)"
   ]
  },
  {
   "cell_type": "code",
   "execution_count": 10,
   "id": "allied-selling",
   "metadata": {
    "ExecuteTime": {
     "end_time": "2023-02-04T13:43:40.132838Z",
     "start_time": "2023-02-04T13:43:40.122209Z"
    }
   },
   "outputs": [
    {
     "name": "stdout",
     "output_type": "stream",
     "text": [
      "root\n",
      " |-- category: string (nullable = true)\n",
      " |-- subcategory: string (nullable = true)\n",
      " |-- name: string (nullable = true)\n",
      " |-- current_price: double (nullable = true)\n",
      " |-- raw_price: double (nullable = true)\n",
      " |-- currency: string (nullable = true)\n",
      " |-- discount: integer (nullable = true)\n",
      " |-- likes_count: integer (nullable = true)\n",
      " |-- is_new: boolean (nullable = true)\n",
      " |-- brand: string (nullable = true)\n",
      " |-- brand_url: string (nullable = true)\n",
      " |-- codCountry: string (nullable = true)\n",
      " |-- variation_0_color: string (nullable = true)\n",
      " |-- variation_1_color: string (nullable = true)\n",
      " |-- variation_0_thumbnail: string (nullable = true)\n",
      " |-- variation_0_image: string (nullable = true)\n",
      " |-- variation_1_thumbnail: string (nullable = true)\n",
      " |-- variation_1_image: string (nullable = true)\n",
      " |-- image_url: string (nullable = true)\n",
      " |-- url: string (nullable = true)\n",
      " |-- id: integer (nullable = true)\n",
      " |-- model: string (nullable = true)\n",
      "\n"
     ]
    }
   ],
   "source": [
    "df.printSchema()"
   ]
  },
  {
   "cell_type": "code",
   "execution_count": 11,
   "id": "macro-cotton",
   "metadata": {
    "ExecuteTime": {
     "end_time": "2023-02-04T13:43:40.511390Z",
     "start_time": "2023-02-04T13:43:40.136761Z"
    }
   },
   "outputs": [],
   "source": [
    "# load the df to spark session\n",
    "df.createOrReplaceTempView(\"products\")"
   ]
  },
  {
   "cell_type": "code",
   "execution_count": 12,
   "id": "bright-bibliography",
   "metadata": {
    "ExecuteTime": {
     "end_time": "2023-02-04T13:43:41.034574Z",
     "start_time": "2023-02-04T13:43:40.515006Z"
    }
   },
   "outputs": [
    {
     "data": {
      "text/plain": [
       "[Table(name='products', database=None, description=None, tableType='TEMPORARY', isTemporary=True)]"
      ]
     },
     "execution_count": 12,
     "metadata": {},
     "output_type": "execute_result"
    }
   ],
   "source": [
    "spark.catalog.listTables()"
   ]
  },
  {
   "cell_type": "markdown",
   "id": "instructional-groove",
   "metadata": {},
   "source": [
    "##  Task 2 : Data Transformations"
   ]
  },
  {
   "cell_type": "markdown",
   "id": "soviet-malta",
   "metadata": {},
   "source": [
    "`Notes and Questions`\n",
    "1. Q: Can I create multiple level grouping using window functions"
   ]
  },
  {
   "cell_type": "code",
   "execution_count": 13,
   "id": "variable-status",
   "metadata": {
    "ExecuteTime": {
     "end_time": "2023-02-04T13:43:41.106655Z",
     "start_time": "2023-02-04T13:43:41.038751Z"
    }
   },
   "outputs": [],
   "source": [
    "# get the df\n",
    "products = spark.table(\"products\")"
   ]
  },
  {
   "cell_type": "code",
   "execution_count": 14,
   "id": "interior-gazette",
   "metadata": {
    "ExecuteTime": {
     "end_time": "2023-02-04T13:43:41.120547Z",
     "start_time": "2023-02-04T13:43:41.110412Z"
    }
   },
   "outputs": [
    {
     "name": "stdout",
     "output_type": "stream",
     "text": [
      "root\n",
      " |-- category: string (nullable = true)\n",
      " |-- subcategory: string (nullable = true)\n",
      " |-- name: string (nullable = true)\n",
      " |-- current_price: double (nullable = true)\n",
      " |-- raw_price: double (nullable = true)\n",
      " |-- currency: string (nullable = true)\n",
      " |-- discount: integer (nullable = true)\n",
      " |-- likes_count: integer (nullable = true)\n",
      " |-- is_new: boolean (nullable = true)\n",
      " |-- brand: string (nullable = true)\n",
      " |-- brand_url: string (nullable = true)\n",
      " |-- codCountry: string (nullable = true)\n",
      " |-- variation_0_color: string (nullable = true)\n",
      " |-- variation_1_color: string (nullable = true)\n",
      " |-- variation_0_thumbnail: string (nullable = true)\n",
      " |-- variation_0_image: string (nullable = true)\n",
      " |-- variation_1_thumbnail: string (nullable = true)\n",
      " |-- variation_1_image: string (nullable = true)\n",
      " |-- image_url: string (nullable = true)\n",
      " |-- url: string (nullable = true)\n",
      " |-- id: integer (nullable = true)\n",
      " |-- model: string (nullable = true)\n",
      "\n"
     ]
    }
   ],
   "source": [
    "products.printSchema()"
   ]
  },
  {
   "cell_type": "code",
   "execution_count": 15,
   "id": "seeing-damage",
   "metadata": {
    "ExecuteTime": {
     "end_time": "2023-02-04T13:43:41.230801Z",
     "start_time": "2023-02-04T13:43:41.130707Z"
    }
   },
   "outputs": [],
   "source": [
    "# create window \n",
    "cat_window = Window.partitionBy(\"category\")\n",
    "\n",
    "subcat_window = Window.partitionBy(\"subcategory\")"
   ]
  },
  {
   "cell_type": "code",
   "execution_count": 16,
   "id": "continuous-fluid",
   "metadata": {
    "ExecuteTime": {
     "end_time": "2023-02-04T13:43:41.250327Z",
     "start_time": "2023-02-04T13:43:41.235131Z"
    }
   },
   "outputs": [],
   "source": [
    "# functions definition\n",
    "\n",
    "# 1 - avg agg function\n",
    "def avg_agg(df, window, df_col, new_col_name):\n",
    "    # calculate the avg\n",
    "    new_col = fn.avg(df_col).over(window)\n",
    "    \n",
    "    # round to the nearest 2 decimals\n",
    "    new_col = fn.round(new_col, 2)\n",
    "    \n",
    "    # add the new column to df\n",
    "    df = df.withColumn(new_col_name, new_col)\n",
    "    \n",
    "    # return new df\n",
    "    return df\n",
    "\n",
    "# 2 - rank function\n",
    "def rank_agg(df, window, df_col, new_col_name):\n",
    "    # order the window to rank\n",
    "    new_window = window.orderBy(df[df_col].desc())\n",
    "    \n",
    "    # rank the values\n",
    "    ranked_col = fn.rank().over(new_window)\n",
    "    \n",
    "    # add the ranked column to df\n",
    "    df = df.withColumn(new_col_name, ranked_col)\n",
    "    \n",
    "    return df\n",
    "\n",
    "# 3 - dense rank function\n",
    "def dense_rank_agg(df, window, df_col, new_col_name):\n",
    "    # order the window to rank\n",
    "    new_window = window.orderBy(df[df_col].desc())\n",
    "    \n",
    "    # dense rank the values\n",
    "    ranked_col = fn.dense_rank().over(new_window)\n",
    "    \n",
    "    # add the ranked column to df\n",
    "    df = df.withColumn(new_col_name, ranked_col)\n",
    "    \n",
    "    return df\n",
    "\n",
    "# 4 - def sum new products\n",
    "def sum_new(df, window, df_col, new_col_name):\n",
    "    # sum the new products\n",
    "    sum_col = fn.sum(fn.col(df_col).cast(\"integer\")).over(window)\n",
    "    \n",
    "    # add the sum column to df\n",
    "    df = df.withColumn(new_col_name, sum_col)\n",
    "    \n",
    "    return df"
   ]
  },
  {
   "cell_type": "markdown",
   "id": "alpha-universal",
   "metadata": {},
   "source": [
    "1. Average price of each category\n",
    "    "
   ]
  },
  {
   "cell_type": "code",
   "execution_count": 17,
   "id": "reverse-invite",
   "metadata": {
    "ExecuteTime": {
     "end_time": "2023-02-04T13:43:41.417982Z",
     "start_time": "2023-02-04T13:43:41.256310Z"
    }
   },
   "outputs": [],
   "source": [
    "products = avg_agg(products, cat_window, \"raw_price\", \"category_avg_price\")"
   ]
  },
  {
   "cell_type": "markdown",
   "id": "detailed-shoulder",
   "metadata": {},
   "source": [
    "2. Average price of each subcategory\n",
    "    "
   ]
  },
  {
   "cell_type": "code",
   "execution_count": 18,
   "id": "boolean-developer",
   "metadata": {
    "ExecuteTime": {
     "end_time": "2023-02-04T13:43:41.521896Z",
     "start_time": "2023-02-04T13:43:41.421753Z"
    }
   },
   "outputs": [],
   "source": [
    "products = avg_agg(products, subcat_window, \"raw_price\", \"subcategory_avg_price\")"
   ]
  },
  {
   "cell_type": "markdown",
   "id": "ongoing-comedy",
   "metadata": {},
   "source": [
    "3. Average discount of each category \n",
    "   "
   ]
  },
  {
   "cell_type": "code",
   "execution_count": 19,
   "id": "known-willow",
   "metadata": {
    "ExecuteTime": {
     "end_time": "2023-02-04T13:43:41.654973Z",
     "start_time": "2023-02-04T13:43:41.525029Z"
    }
   },
   "outputs": [],
   "source": [
    "products = avg_agg(products, cat_window, \"discount\", \"category_avg_discount\")"
   ]
  },
  {
   "cell_type": "markdown",
   "id": "dependent-principal",
   "metadata": {},
   "source": [
    " 4. Average discount of each subcategory \n",
    "    "
   ]
  },
  {
   "cell_type": "code",
   "execution_count": 20,
   "id": "arbitrary-activation",
   "metadata": {
    "ExecuteTime": {
     "end_time": "2023-02-04T13:43:41.763296Z",
     "start_time": "2023-02-04T13:43:41.657687Z"
    }
   },
   "outputs": [],
   "source": [
    "products = avg_agg(products, subcat_window, \"discount\", \"subcategory_avg_discount\")"
   ]
  },
  {
   "cell_type": "markdown",
   "id": "handmade-trading",
   "metadata": {},
   "source": [
    "5. Average likes of each category\n",
    "    "
   ]
  },
  {
   "cell_type": "code",
   "execution_count": 21,
   "id": "egyptian-roman",
   "metadata": {
    "ExecuteTime": {
     "end_time": "2023-02-04T13:43:41.854305Z",
     "start_time": "2023-02-04T13:43:41.766037Z"
    }
   },
   "outputs": [],
   "source": [
    "products = avg_agg(products, cat_window, \"likes_count\", \"category_avg_likes_count\")"
   ]
  },
  {
   "cell_type": "markdown",
   "id": "supported-measure",
   "metadata": {},
   "source": [
    "6. Average likes of each subcategory\n",
    "    "
   ]
  },
  {
   "cell_type": "code",
   "execution_count": 22,
   "id": "blessed-sacrifice",
   "metadata": {
    "ExecuteTime": {
     "end_time": "2023-02-04T13:43:41.943594Z",
     "start_time": "2023-02-04T13:43:41.861090Z"
    }
   },
   "outputs": [],
   "source": [
    "products = avg_agg(products, subcat_window, \"likes_count\", \"subcategory_avg_likes_count\")"
   ]
  },
  {
   "cell_type": "markdown",
   "id": "orange-championship",
   "metadata": {},
   "source": [
    "7. Rank of the likes of each subcategory\n",
    "    "
   ]
  },
  {
   "cell_type": "code",
   "execution_count": 23,
   "id": "pressing-party",
   "metadata": {
    "ExecuteTime": {
     "end_time": "2023-02-04T13:43:42.052885Z",
     "start_time": "2023-02-04T13:43:41.947841Z"
    }
   },
   "outputs": [],
   "source": [
    "products = rank_agg(products, subcat_window, \"likes_count\", \"subcategory_likes_count_rank\")"
   ]
  },
  {
   "cell_type": "markdown",
   "id": "clinical-farmer",
   "metadata": {},
   "source": [
    "8. Dense rank of the likes of each subcategory\n",
    "    \n"
   ]
  },
  {
   "cell_type": "code",
   "execution_count": 24,
   "id": "technical-constitutional",
   "metadata": {
    "ExecuteTime": {
     "end_time": "2023-02-04T13:43:42.140566Z",
     "start_time": "2023-02-04T13:43:42.055907Z"
    }
   },
   "outputs": [],
   "source": [
    "products = dense_rank_agg(products, subcat_window, \"likes_count\", \"subcategory_likes_count_dense_rank\")"
   ]
  },
  {
   "cell_type": "markdown",
   "id": "liquid-supplier",
   "metadata": {},
   "source": [
    "9. Rank of the likes of each category\n",
    "    "
   ]
  },
  {
   "cell_type": "code",
   "execution_count": 25,
   "id": "trained-setup",
   "metadata": {
    "ExecuteTime": {
     "end_time": "2023-02-04T13:43:42.217339Z",
     "start_time": "2023-02-04T13:43:42.145165Z"
    }
   },
   "outputs": [],
   "source": [
    "products = rank_agg(products, cat_window, \"likes_count\", \"category_likes_count_rank\")"
   ]
  },
  {
   "cell_type": "markdown",
   "id": "differential-nomination",
   "metadata": {},
   "source": [
    "10. Dense rank of the likes of each category\n",
    "    "
   ]
  },
  {
   "cell_type": "code",
   "execution_count": 26,
   "id": "distributed-violin",
   "metadata": {
    "ExecuteTime": {
     "end_time": "2023-02-04T13:43:42.305165Z",
     "start_time": "2023-02-04T13:43:42.221057Z"
    }
   },
   "outputs": [],
   "source": [
    "products = dense_rank_agg(products, cat_window, \"likes_count\", \"category_likes_count_dense_rank\")"
   ]
  },
  {
   "cell_type": "markdown",
   "id": "careful-lafayette",
   "metadata": {},
   "source": [
    "11. Rank of the discount of each category\n",
    "    \n",
    "\n"
   ]
  },
  {
   "cell_type": "code",
   "execution_count": 27,
   "id": "enhanced-williams",
   "metadata": {
    "ExecuteTime": {
     "end_time": "2023-02-04T13:43:42.387693Z",
     "start_time": "2023-02-04T13:43:42.308733Z"
    }
   },
   "outputs": [],
   "source": [
    "products = rank_agg(products, cat_window, \"discount\", \"category_discount_rank\")"
   ]
  },
  {
   "cell_type": "markdown",
   "id": "hundred-glance",
   "metadata": {},
   "source": [
    "12. Dense rank of the discounts of each category\n",
    "    "
   ]
  },
  {
   "cell_type": "code",
   "execution_count": 28,
   "id": "unlimited-remedy",
   "metadata": {
    "ExecuteTime": {
     "end_time": "2023-02-04T13:43:42.474856Z",
     "start_time": "2023-02-04T13:43:42.397119Z"
    }
   },
   "outputs": [],
   "source": [
    "products = dense_rank_agg(products, cat_window, \"discount\", \"category_discount_dense_rank\")"
   ]
  },
  {
   "cell_type": "markdown",
   "id": "running-knife",
   "metadata": {},
   "source": [
    "13. Sum of the unused products in each category\n",
    "    "
   ]
  },
  {
   "cell_type": "code",
   "execution_count": 29,
   "id": "focal-evans",
   "metadata": {
    "ExecuteTime": {
     "end_time": "2023-02-04T13:43:42.565395Z",
     "start_time": "2023-02-04T13:43:42.478521Z"
    }
   },
   "outputs": [],
   "source": [
    "products = sum_new(products, cat_window, \"is_new\", \"new_product_per_category\")"
   ]
  },
  {
   "cell_type": "markdown",
   "id": "educational-communication",
   "metadata": {},
   "source": [
    "14. Sum of the unused products in subcategory."
   ]
  },
  {
   "cell_type": "code",
   "execution_count": 30,
   "id": "appreciated-nutrition",
   "metadata": {
    "ExecuteTime": {
     "end_time": "2023-02-04T13:43:42.642811Z",
     "start_time": "2023-02-04T13:43:42.570246Z"
    }
   },
   "outputs": [],
   "source": [
    "products = sum_new(products, subcat_window, \"is_new\", \"new_product_per_subcategory\")"
   ]
  },
  {
   "cell_type": "markdown",
   "id": "chronic-diversity",
   "metadata": {},
   "source": [
    "### Print the schema of the dataframe to check the new columns created "
   ]
  },
  {
   "cell_type": "code",
   "execution_count": 31,
   "id": "streaming-hierarchy",
   "metadata": {
    "ExecuteTime": {
     "end_time": "2023-02-04T13:43:42.652776Z",
     "start_time": "2023-02-04T13:43:42.645957Z"
    }
   },
   "outputs": [
    {
     "name": "stdout",
     "output_type": "stream",
     "text": [
      "root\n",
      " |-- category: string (nullable = true)\n",
      " |-- subcategory: string (nullable = true)\n",
      " |-- name: string (nullable = true)\n",
      " |-- current_price: double (nullable = true)\n",
      " |-- raw_price: double (nullable = true)\n",
      " |-- currency: string (nullable = true)\n",
      " |-- discount: integer (nullable = true)\n",
      " |-- likes_count: integer (nullable = true)\n",
      " |-- is_new: boolean (nullable = true)\n",
      " |-- brand: string (nullable = true)\n",
      " |-- brand_url: string (nullable = true)\n",
      " |-- codCountry: string (nullable = true)\n",
      " |-- variation_0_color: string (nullable = true)\n",
      " |-- variation_1_color: string (nullable = true)\n",
      " |-- variation_0_thumbnail: string (nullable = true)\n",
      " |-- variation_0_image: string (nullable = true)\n",
      " |-- variation_1_thumbnail: string (nullable = true)\n",
      " |-- variation_1_image: string (nullable = true)\n",
      " |-- image_url: string (nullable = true)\n",
      " |-- url: string (nullable = true)\n",
      " |-- id: integer (nullable = true)\n",
      " |-- model: string (nullable = true)\n",
      " |-- category_avg_price: double (nullable = true)\n",
      " |-- subcategory_avg_price: double (nullable = true)\n",
      " |-- category_avg_discount: double (nullable = true)\n",
      " |-- subcategory_avg_discount: double (nullable = true)\n",
      " |-- category_avg_likes_count: double (nullable = true)\n",
      " |-- subcategory_avg_likes_count: double (nullable = true)\n",
      " |-- subcategory_likes_count_rank: integer (nullable = true)\n",
      " |-- subcategory_likes_count_dense_rank: integer (nullable = true)\n",
      " |-- category_likes_count_rank: integer (nullable = true)\n",
      " |-- category_likes_count_dense_rank: integer (nullable = true)\n",
      " |-- category_discount_rank: integer (nullable = true)\n",
      " |-- category_discount_dense_rank: integer (nullable = true)\n",
      " |-- new_product_per_category: long (nullable = true)\n",
      " |-- new_product_per_subcategory: long (nullable = true)\n",
      "\n"
     ]
    }
   ],
   "source": [
    "products.printSchema()"
   ]
  },
  {
   "cell_type": "markdown",
   "id": "future-insurance",
   "metadata": {},
   "source": [
    "## Task 3: Analysis - Utilising the newly created features to answer some questions<br>\n",
    "use the dataframe API to answer the following questions"
   ]
  },
  {
   "cell_type": "markdown",
   "id": "sunset-scout",
   "metadata": {},
   "source": [
    "### Which type of product is the least popular with the users \n",
    "find the feature which demonstrates the popularity of a product"
   ]
  },
  {
   "cell_type": "code",
   "execution_count": 32,
   "id": "billion-marsh",
   "metadata": {
    "ExecuteTime": {
     "end_time": "2023-02-04T13:43:48.497336Z",
     "start_time": "2023-02-04T13:43:42.657441Z"
    }
   },
   "outputs": [
    {
     "name": "stdout",
     "output_type": "stream",
     "text": [
      "+-----------+-----------------+\n",
      "|   category|total_likes_count|\n",
      "+-----------+-----------------+\n",
      "|accessories|           613522|\n",
      "+-----------+-----------------+\n",
      "\n"
     ]
    }
   ],
   "source": [
    "products.groupBy(\"category\").\\\n",
    "    agg(fn.sum(\"likes_count\").\\\n",
    "    alias(\"total_likes_count\")).\\\n",
    "    orderBy(fn.col(\"total_likes_count\")).\\\n",
    "    limit(1).\\\n",
    "    show()"
   ]
  },
  {
   "cell_type": "markdown",
   "id": "fuzzy-hunger",
   "metadata": {},
   "source": [
    "`Category accessories products is the least popular products based on likes count`"
   ]
  },
  {
   "cell_type": "markdown",
   "id": "quantitative-impact",
   "metadata": {},
   "source": [
    "### Which type of product is the most popular with the users "
   ]
  },
  {
   "cell_type": "code",
   "execution_count": 33,
   "id": "separated-butter",
   "metadata": {
    "ExecuteTime": {
     "end_time": "2023-02-04T13:43:51.617265Z",
     "start_time": "2023-02-04T13:43:48.508385Z"
    }
   },
   "outputs": [
    {
     "name": "stdout",
     "output_type": "stream",
     "text": [
      "+--------+-----------------+\n",
      "|category|total_likes_count|\n",
      "+--------+-----------------+\n",
      "|   shoes|          3358818|\n",
      "+--------+-----------------+\n",
      "\n"
     ]
    }
   ],
   "source": [
    "products.groupBy(\"category\").\\\n",
    "    agg(fn.sum(\"likes_count\").\\\n",
    "    alias(\"total_likes_count\")).\\\n",
    "    orderBy(fn.col(\"total_likes_count\").desc()).\\\n",
    "    limit(1).\\\n",
    "    show()"
   ]
  },
  {
   "cell_type": "markdown",
   "id": "shaped-amplifier",
   "metadata": {},
   "source": [
    "`Category shoes products is the most popular products based on likes count`"
   ]
  },
  {
   "cell_type": "markdown",
   "id": "informed-florence",
   "metadata": {},
   "source": [
    "### Which subcategory product is the most popular with the users"
   ]
  },
  {
   "cell_type": "code",
   "execution_count": 34,
   "id": "positive-communications",
   "metadata": {
    "ExecuteTime": {
     "end_time": "2023-02-04T13:43:54.218394Z",
     "start_time": "2023-02-04T13:43:51.621707Z"
    }
   },
   "outputs": [
    {
     "name": "stdout",
     "output_type": "stream",
     "text": [
      "+-------------------+-----------------+\n",
      "|        subcategory|total_likes_count|\n",
      "+-------------------+-----------------+\n",
      "|Derbies & Mocassins|           794351|\n",
      "+-------------------+-----------------+\n",
      "\n"
     ]
    }
   ],
   "source": [
    "products.groupBy(\"subcategory\").\\\n",
    "    agg(fn.sum(\"likes_count\").\\\n",
    "    alias(\"total_likes_count\")).\\\n",
    "    orderBy(fn.col(\"total_likes_count\").desc()).\\\n",
    "    limit(1).\\\n",
    "    show()"
   ]
  },
  {
   "cell_type": "markdown",
   "id": "surprising-homework",
   "metadata": {},
   "source": [
    "`SubCategory Derbies & Mocassins products is the most popular products based on likes count`"
   ]
  },
  {
   "cell_type": "markdown",
   "id": "limited-citizen",
   "metadata": {},
   "source": [
    "###  Which subcategory product is the least popular with the users"
   ]
  },
  {
   "cell_type": "code",
   "execution_count": 35,
   "id": "palestinian-colleague",
   "metadata": {
    "ExecuteTime": {
     "end_time": "2023-02-04T13:43:57.212578Z",
     "start_time": "2023-02-04T13:43:54.229723Z"
    }
   },
   "outputs": [
    {
     "name": "stdout",
     "output_type": "stream",
     "text": [
      "+-----------+-----------------+\n",
      "|subcategory|total_likes_count|\n",
      "+-----------+-----------------+\n",
      "|     Berets|               12|\n",
      "+-----------+-----------------+\n",
      "\n"
     ]
    }
   ],
   "source": [
    "products.groupBy(\"subcategory\").\\\n",
    "    agg(fn.sum(\"likes_count\").\\\n",
    "    alias(\"total_likes_count\")).\\\n",
    "    orderBy(fn.col(\"total_likes_count\")).\\\n",
    "    limit(1).\\\n",
    "    show()"
   ]
  },
  {
   "cell_type": "markdown",
   "id": "induced-salem",
   "metadata": {},
   "source": [
    "`Subcategory Berets products is the least popular products based on likes count`"
   ]
  },
  {
   "cell_type": "markdown",
   "id": "plastic-slave",
   "metadata": {},
   "source": [
    "### In the accessory products, which subcategory was the most expensive"
   ]
  },
  {
   "cell_type": "code",
   "execution_count": 36,
   "id": "arranged-compiler",
   "metadata": {
    "ExecuteTime": {
     "end_time": "2023-02-04T13:44:01.352879Z",
     "start_time": "2023-02-04T13:43:57.216322Z"
    }
   },
   "outputs": [
    {
     "data": {
      "text/html": [
       "<div>\n",
       "<style scoped>\n",
       "    .dataframe tbody tr th:only-of-type {\n",
       "        vertical-align: middle;\n",
       "    }\n",
       "\n",
       "    .dataframe tbody tr th {\n",
       "        vertical-align: top;\n",
       "    }\n",
       "\n",
       "    .dataframe thead th {\n",
       "        text-align: right;\n",
       "    }\n",
       "</style>\n",
       "<table border=\"1\" class=\"dataframe\">\n",
       "  <thead>\n",
       "    <tr style=\"text-align: right;\">\n",
       "      <th></th>\n",
       "      <th>subcategory</th>\n",
       "      <th>subcategory_avg_price</th>\n",
       "    </tr>\n",
       "  </thead>\n",
       "  <tbody>\n",
       "    <tr>\n",
       "      <th>0</th>\n",
       "      <td>Sun Protection Sleeve</td>\n",
       "      <td>40.48</td>\n",
       "    </tr>\n",
       "  </tbody>\n",
       "</table>\n",
       "</div>"
      ],
      "text/plain": [
       "             subcategory  subcategory_avg_price\n",
       "0  Sun Protection Sleeve                  40.48"
      ]
     },
     "execution_count": 36,
     "metadata": {},
     "output_type": "execute_result"
    }
   ],
   "source": [
    "products.select(\"subcategory\", \"subcategory_avg_price\").\\\n",
    "    where(df.category == \"accessories\").\\\n",
    "    orderBy(fn.col(\"subcategory_avg_price\").\\\n",
    "    desc()).\\\n",
    "    limit(1).\\\n",
    "    toPandas()"
   ]
  },
  {
   "cell_type": "markdown",
   "id": "weighted-contract",
   "metadata": {},
   "source": [
    "based on subcategory_avg_price feature, `Sun Protection Sleeve is the most expensive subcategory in accessories category`"
   ]
  },
  {
   "cell_type": "markdown",
   "id": "central-charter",
   "metadata": {},
   "source": [
    "### Which type of product had the highest discount offerings"
   ]
  },
  {
   "cell_type": "code",
   "execution_count": 42,
   "id": "legislative-novelty",
   "metadata": {
    "ExecuteTime": {
     "end_time": "2023-02-04T14:15:42.902785Z",
     "start_time": "2023-02-04T14:15:36.504556Z"
    }
   },
   "outputs": [
    {
     "name": "stdout",
     "output_type": "stream",
     "text": [
      "+--------+------------+\n",
      "|category|Max Discount|\n",
      "+--------+------------+\n",
      "| jewelry|       53.13|\n",
      "+--------+------------+\n",
      "\n"
     ]
    }
   ],
   "source": [
    "products.groupBy(\"category\").\\\n",
    "    agg(fn.round(fn.max(\"category_avg_discount\"), 2).alias(\"Max Discount\")).\\\n",
    "    orderBy(fn.col(\"Max Discount\").desc()).\\\n",
    "    limit(1).\\\n",
    "    show()"
   ]
  },
  {
   "cell_type": "markdown",
   "id": "opponent-williams",
   "metadata": {},
   "source": [
    "`Category Jewelry products had the highest discount offerings based on Category average discount feature`"
   ]
  },
  {
   "cell_type": "markdown",
   "id": "inclusive-visitor",
   "metadata": {},
   "source": [
    "### Which type of product had the lowest discount offerings"
   ]
  },
  {
   "cell_type": "code",
   "execution_count": 43,
   "id": "static-noise",
   "metadata": {
    "ExecuteTime": {
     "end_time": "2023-02-04T14:15:47.456801Z",
     "start_time": "2023-02-04T14:15:42.918037Z"
    }
   },
   "outputs": [
    {
     "name": "stdout",
     "output_type": "stream",
     "text": [
      "+-----------+----------------+\n",
      "|   category|Minimum Discount|\n",
      "+-----------+----------------+\n",
      "|accessories|           50.76|\n",
      "+-----------+----------------+\n",
      "\n"
     ]
    }
   ],
   "source": [
    "products.groupBy(\"category\").\\\n",
    "    agg(fn.round(fn.min(\"category_avg_discount\"), 2).alias(\"Minimum Discount\")).\\\n",
    "    orderBy(fn.col(\"Minimum Discount\")).\\\n",
    "    limit(1).\\\n",
    "    show()"
   ]
  },
  {
   "cell_type": "markdown",
   "id": "pacific-capacity",
   "metadata": {},
   "source": [
    "`Category accessories products had the lowest discount offerings based on Category average discount feature`"
   ]
  },
  {
   "cell_type": "markdown",
   "id": "pressed-wheel",
   "metadata": {},
   "source": [
    "### In the shoes products, which subcategory was the most common."
   ]
  },
  {
   "cell_type": "code",
   "execution_count": 44,
   "id": "derived-story",
   "metadata": {
    "ExecuteTime": {
     "end_time": "2023-02-04T14:15:50.442975Z",
     "start_time": "2023-02-04T14:15:47.465050Z"
    }
   },
   "outputs": [
    {
     "name": "stdout",
     "output_type": "stream",
     "text": [
      "+-----------+---------------------------+\n",
      "|subcategory|subcategory_avg_likes_count|\n",
      "+-----------+---------------------------+\n",
      "|  Escarpins|                     519.88|\n",
      "+-----------+---------------------------+\n",
      "\n"
     ]
    }
   ],
   "source": [
    "products.select(\"subcategory\", \"subcategory_avg_likes_count\").\\\n",
    "    where(products.category == \"shoes\").\\\n",
    "    orderBy(fn.col(\"subcategory_avg_likes_count\").desc()).\\\n",
    "    limit(1).\\\n",
    "    show()"
   ]
  },
  {
   "cell_type": "markdown",
   "id": "universal-partnership",
   "metadata": {},
   "source": [
    "`Escarpins is the most common subcategory in shoes category products`"
   ]
  },
  {
   "cell_type": "markdown",
   "id": "grave-statistics",
   "metadata": {},
   "source": [
    "### Which type of product had the most unused products listed for sale"
   ]
  },
  {
   "cell_type": "code",
   "execution_count": 45,
   "id": "smoking-identification",
   "metadata": {
    "ExecuteTime": {
     "end_time": "2023-02-04T14:15:52.824549Z",
     "start_time": "2023-02-04T14:15:50.459843Z"
    }
   },
   "outputs": [
    {
     "name": "stdout",
     "output_type": "stream",
     "text": [
      "+--------+------------------------+\n",
      "|category|new_product_per_category|\n",
      "+--------+------------------------+\n",
      "|   shoes|                     271|\n",
      "+--------+------------------------+\n",
      "\n"
     ]
    }
   ],
   "source": [
    "products.select(\"category\", \"new_product_per_category\").\\\n",
    "    orderBy(fn.col(\"new_product_per_category\").desc()).\\\n",
    "    limit(1).\\\n",
    "    show()"
   ]
  },
  {
   "cell_type": "markdown",
   "id": "egyptian-continuity",
   "metadata": {},
   "source": [
    "Has the most used means the least new items, `accessories category has the most used items listed for sale` "
   ]
  },
  {
   "cell_type": "markdown",
   "id": "laden-sending",
   "metadata": {},
   "source": [
    "### Which subcategory product  had the most unused products listed for sale"
   ]
  },
  {
   "cell_type": "code",
   "execution_count": 46,
   "id": "irish-nickname",
   "metadata": {
    "ExecuteTime": {
     "end_time": "2023-02-04T14:15:55.431962Z",
     "start_time": "2023-02-04T14:15:52.850906Z"
    }
   },
   "outputs": [
    {
     "name": "stdout",
     "output_type": "stream",
     "text": [
      "+-----------+---------------------------+\n",
      "|subcategory|new_product_per_subcategory|\n",
      "+-----------+---------------------------+\n",
      "|    Baskets|                         68|\n",
      "+-----------+---------------------------+\n",
      "\n"
     ]
    }
   ],
   "source": [
    "products.select(\"subcategory\", \"new_product_per_subcategory\").\\\n",
    "    orderBy(fn.col(\"new_product_per_subcategory\").desc()).\\\n",
    "    limit(1).\\\n",
    "    show()"
   ]
  },
  {
   "cell_type": "markdown",
   "id": "configured-china",
   "metadata": {},
   "source": [
    "Has the most unused means the most new items, `Baskets subcategory has the most new items listed for sale`"
   ]
  },
  {
   "cell_type": "markdown",
   "id": "deluxe-spectrum",
   "metadata": {},
   "source": [
    "## Task 4: Load into postgres database."
   ]
  },
  {
   "cell_type": "markdown",
   "id": "fiscal-horizontal",
   "metadata": {},
   "source": [
    "### Load To Postgres DB"
   ]
  },
  {
   "cell_type": "markdown",
   "id": "final-analysis",
   "metadata": {},
   "source": [
    "#### DB connection to load Configrations"
   ]
  },
  {
   "cell_type": "code",
   "execution_count": 47,
   "id": "advanced-receipt",
   "metadata": {
    "ExecuteTime": {
     "end_time": "2023-02-04T14:15:55.452007Z",
     "start_time": "2023-02-04T14:15:55.436358Z"
    }
   },
   "outputs": [],
   "source": [
    "# configrations\n",
    "url = \"jdbc:postgresql://postgres_db:5432/products_db\"\n",
    "mode = \"overwrite\"\n",
    "\n",
    "properties = {\n",
    "    \"user\": \"user\",\n",
    "    \"password\": \"passward\",\n",
    "    \"driver\": \"org.postgresql.Driver\"\n",
    "}"
   ]
  },
  {
   "cell_type": "markdown",
   "id": "roman-cedar",
   "metadata": {},
   "source": [
    "#### load shoes products data"
   ]
  },
  {
   "cell_type": "code",
   "execution_count": 48,
   "id": "comparative-blade",
   "metadata": {
    "ExecuteTime": {
     "end_time": "2023-02-04T14:15:59.556372Z",
     "start_time": "2023-02-04T14:15:55.456200Z"
    }
   },
   "outputs": [],
   "source": [
    "table_shoes = \"shoes_products\"\n",
    "df_shoe.write.jdbc(url=url, table=table_shoes, mode=mode, properties=properties)"
   ]
  },
  {
   "cell_type": "markdown",
   "id": "renewable-combat",
   "metadata": {},
   "source": [
    "#### load jewelry products data"
   ]
  },
  {
   "cell_type": "code",
   "execution_count": 49,
   "id": "continental-litigation",
   "metadata": {
    "ExecuteTime": {
     "end_time": "2023-02-04T14:16:01.295918Z",
     "start_time": "2023-02-04T14:15:59.562427Z"
    }
   },
   "outputs": [],
   "source": [
    "table_jewelry = \"jewelry_products\"\n",
    "df_jewel.write.jdbc(url=url, table=table_jewelry, mode=mode, properties=properties)"
   ]
  },
  {
   "cell_type": "markdown",
   "id": "following-nothing",
   "metadata": {},
   "source": [
    "#### load accessories products data"
   ]
  },
  {
   "cell_type": "code",
   "execution_count": 50,
   "id": "blocked-theology",
   "metadata": {
    "ExecuteTime": {
     "end_time": "2023-02-04T14:16:02.712328Z",
     "start_time": "2023-02-04T14:16:01.299454Z"
    }
   },
   "outputs": [],
   "source": [
    "table_accessories = \"accessories_products\"\n",
    "df_accessories.write.jdbc(url=url, table=table_accessories, mode=mode, properties=properties)"
   ]
  },
  {
   "cell_type": "markdown",
   "id": "angry-provincial",
   "metadata": {},
   "source": [
    "#### Load products analytical table"
   ]
  },
  {
   "cell_type": "code",
   "execution_count": 51,
   "id": "adult-jesus",
   "metadata": {
    "ExecuteTime": {
     "end_time": "2023-02-04T14:16:37.661843Z",
     "start_time": "2023-02-04T14:16:02.718296Z"
    }
   },
   "outputs": [],
   "source": [
    "table_products = \"products_analytics\"\n",
    "products.write.jdbc(url=url, table=table_products, mode=mode, properties=properties)"
   ]
  },
  {
   "cell_type": "markdown",
   "id": "primary-madrid",
   "metadata": {},
   "source": [
    "### Read each table as a dataframe and just print the schema of each one."
   ]
  },
  {
   "cell_type": "markdown",
   "id": "potential-briefs",
   "metadata": {},
   "source": [
    "#### Read shoes products data from postgresql DB"
   ]
  },
  {
   "cell_type": "code",
   "execution_count": 52,
   "id": "stretch-chase",
   "metadata": {
    "ExecuteTime": {
     "end_time": "2023-02-04T14:16:37.845646Z",
     "start_time": "2023-02-04T14:16:37.666351Z"
    }
   },
   "outputs": [],
   "source": [
    "# load data\n",
    "shoes_loaded = spark.read.jdbc(url=url, table=table_shoes, properties=properties)"
   ]
  },
  {
   "cell_type": "code",
   "execution_count": 53,
   "id": "subjective-inclusion",
   "metadata": {
    "ExecuteTime": {
     "end_time": "2023-02-04T14:16:37.877569Z",
     "start_time": "2023-02-04T14:16:37.852424Z"
    }
   },
   "outputs": [
    {
     "name": "stdout",
     "output_type": "stream",
     "text": [
      "root\n",
      " |-- category: string (nullable = true)\n",
      " |-- subcategory: string (nullable = true)\n",
      " |-- name: string (nullable = true)\n",
      " |-- current_price: double (nullable = true)\n",
      " |-- raw_price: double (nullable = true)\n",
      " |-- currency: string (nullable = true)\n",
      " |-- discount: integer (nullable = true)\n",
      " |-- likes_count: integer (nullable = true)\n",
      " |-- is_new: boolean (nullable = true)\n",
      " |-- brand: string (nullable = true)\n",
      " |-- brand_url: string (nullable = true)\n",
      " |-- codCountry: string (nullable = true)\n",
      " |-- variation_0_color: string (nullable = true)\n",
      " |-- variation_1_color: string (nullable = true)\n",
      " |-- variation_0_thumbnail: string (nullable = true)\n",
      " |-- variation_0_image: string (nullable = true)\n",
      " |-- variation_1_thumbnail: string (nullable = true)\n",
      " |-- variation_1_image: string (nullable = true)\n",
      " |-- image_url: string (nullable = true)\n",
      " |-- url: string (nullable = true)\n",
      " |-- id: integer (nullable = true)\n",
      " |-- model: string (nullable = true)\n",
      "\n"
     ]
    }
   ],
   "source": [
    "# print Schema\n",
    "shoes_loaded.printSchema()"
   ]
  },
  {
   "cell_type": "markdown",
   "id": "exceptional-milton",
   "metadata": {},
   "source": [
    "#### Read jewelry products data from postgresql DB"
   ]
  },
  {
   "cell_type": "code",
   "execution_count": 54,
   "id": "dynamic-roots",
   "metadata": {
    "ExecuteTime": {
     "end_time": "2023-02-04T14:16:38.141766Z",
     "start_time": "2023-02-04T14:16:37.894786Z"
    }
   },
   "outputs": [],
   "source": [
    "# load data\n",
    "jewel_loaded = spark.read.jdbc(url=url, table=table_jewelry, properties=properties)"
   ]
  },
  {
   "cell_type": "code",
   "execution_count": 55,
   "id": "unlike-senator",
   "metadata": {
    "ExecuteTime": {
     "end_time": "2023-02-04T14:16:38.160643Z",
     "start_time": "2023-02-04T14:16:38.151108Z"
    }
   },
   "outputs": [
    {
     "name": "stdout",
     "output_type": "stream",
     "text": [
      "root\n",
      " |-- category: string (nullable = true)\n",
      " |-- subcategory: string (nullable = true)\n",
      " |-- name: string (nullable = true)\n",
      " |-- current_price: double (nullable = true)\n",
      " |-- raw_price: double (nullable = true)\n",
      " |-- currency: string (nullable = true)\n",
      " |-- discount: integer (nullable = true)\n",
      " |-- likes_count: integer (nullable = true)\n",
      " |-- is_new: boolean (nullable = true)\n",
      " |-- brand: string (nullable = true)\n",
      " |-- brand_url: string (nullable = true)\n",
      " |-- codCountry: string (nullable = true)\n",
      " |-- variation_0_color: string (nullable = true)\n",
      " |-- variation_1_color: string (nullable = true)\n",
      " |-- variation_0_thumbnail: string (nullable = true)\n",
      " |-- variation_0_image: string (nullable = true)\n",
      " |-- variation_1_thumbnail: string (nullable = true)\n",
      " |-- variation_1_image: string (nullable = true)\n",
      " |-- image_url: string (nullable = true)\n",
      " |-- url: string (nullable = true)\n",
      " |-- id: integer (nullable = true)\n",
      " |-- model: string (nullable = true)\n",
      "\n"
     ]
    }
   ],
   "source": [
    "# print Schema\n",
    "jewel_loaded.printSchema()"
   ]
  },
  {
   "cell_type": "markdown",
   "id": "yellow-tomato",
   "metadata": {},
   "source": [
    "#### Read accessories products data from postgresql DB"
   ]
  },
  {
   "cell_type": "code",
   "execution_count": 56,
   "id": "rapid-morocco",
   "metadata": {
    "ExecuteTime": {
     "end_time": "2023-02-04T14:16:38.400866Z",
     "start_time": "2023-02-04T14:16:38.180494Z"
    }
   },
   "outputs": [],
   "source": [
    "# load data\n",
    "accessories_loaded = spark.read.jdbc(url=url, table=table_accessories, properties=properties)"
   ]
  },
  {
   "cell_type": "code",
   "execution_count": 57,
   "id": "attended-discrimination",
   "metadata": {
    "ExecuteTime": {
     "end_time": "2023-02-04T14:16:38.417226Z",
     "start_time": "2023-02-04T14:16:38.405219Z"
    }
   },
   "outputs": [
    {
     "name": "stdout",
     "output_type": "stream",
     "text": [
      "root\n",
      " |-- category: string (nullable = true)\n",
      " |-- subcategory: string (nullable = true)\n",
      " |-- name: string (nullable = true)\n",
      " |-- current_price: double (nullable = true)\n",
      " |-- raw_price: double (nullable = true)\n",
      " |-- currency: string (nullable = true)\n",
      " |-- discount: integer (nullable = true)\n",
      " |-- likes_count: integer (nullable = true)\n",
      " |-- is_new: boolean (nullable = true)\n",
      " |-- brand: string (nullable = true)\n",
      " |-- brand_url: string (nullable = true)\n",
      " |-- codCountry: string (nullable = true)\n",
      " |-- variation_0_color: string (nullable = true)\n",
      " |-- variation_1_color: string (nullable = true)\n",
      " |-- variation_0_thumbnail: string (nullable = true)\n",
      " |-- variation_0_image: string (nullable = true)\n",
      " |-- variation_1_thumbnail: string (nullable = true)\n",
      " |-- variation_1_image: string (nullable = true)\n",
      " |-- image_url: string (nullable = true)\n",
      " |-- url: string (nullable = true)\n",
      " |-- id: integer (nullable = true)\n",
      " |-- model: string (nullable = true)\n",
      "\n"
     ]
    }
   ],
   "source": [
    "#print Schema\n",
    "accessories_loaded.printSchema()"
   ]
  },
  {
   "cell_type": "markdown",
   "id": "intense-muscle",
   "metadata": {},
   "source": [
    "#### Read products analytics data from postgresql DB"
   ]
  },
  {
   "cell_type": "code",
   "execution_count": 58,
   "id": "fleet-patrol",
   "metadata": {
    "ExecuteTime": {
     "end_time": "2023-02-04T14:16:38.580168Z",
     "start_time": "2023-02-04T14:16:38.421755Z"
    }
   },
   "outputs": [],
   "source": [
    "# load data\n",
    "products_loaded = spark.read.jdbc(url=url, table=table_products, properties=properties)"
   ]
  },
  {
   "cell_type": "code",
   "execution_count": 59,
   "id": "complimentary-liberal",
   "metadata": {
    "ExecuteTime": {
     "end_time": "2023-02-04T14:16:38.600211Z",
     "start_time": "2023-02-04T14:16:38.586439Z"
    }
   },
   "outputs": [
    {
     "name": "stdout",
     "output_type": "stream",
     "text": [
      "root\n",
      " |-- category: string (nullable = true)\n",
      " |-- subcategory: string (nullable = true)\n",
      " |-- name: string (nullable = true)\n",
      " |-- current_price: double (nullable = true)\n",
      " |-- raw_price: double (nullable = true)\n",
      " |-- currency: string (nullable = true)\n",
      " |-- discount: integer (nullable = true)\n",
      " |-- likes_count: integer (nullable = true)\n",
      " |-- is_new: boolean (nullable = true)\n",
      " |-- brand: string (nullable = true)\n",
      " |-- brand_url: string (nullable = true)\n",
      " |-- codCountry: string (nullable = true)\n",
      " |-- variation_0_color: string (nullable = true)\n",
      " |-- variation_1_color: string (nullable = true)\n",
      " |-- variation_0_thumbnail: string (nullable = true)\n",
      " |-- variation_0_image: string (nullable = true)\n",
      " |-- variation_1_thumbnail: string (nullable = true)\n",
      " |-- variation_1_image: string (nullable = true)\n",
      " |-- image_url: string (nullable = true)\n",
      " |-- url: string (nullable = true)\n",
      " |-- id: integer (nullable = true)\n",
      " |-- model: string (nullable = true)\n",
      " |-- category_avg_price: double (nullable = true)\n",
      " |-- subcategory_avg_price: double (nullable = true)\n",
      " |-- category_avg_discount: double (nullable = true)\n",
      " |-- subcategory_avg_discount: double (nullable = true)\n",
      " |-- category_avg_likes_count: double (nullable = true)\n",
      " |-- subcategory_avg_likes_count: double (nullable = true)\n",
      " |-- subcategory_likes_count_rank: integer (nullable = true)\n",
      " |-- subcategory_likes_count_dense_rank: integer (nullable = true)\n",
      " |-- category_likes_count_rank: integer (nullable = true)\n",
      " |-- category_likes_count_dense_rank: integer (nullable = true)\n",
      " |-- category_discount_rank: integer (nullable = true)\n",
      " |-- category_discount_dense_rank: integer (nullable = true)\n",
      " |-- new_product_per_category: long (nullable = true)\n",
      " |-- new_product_per_subcategory: long (nullable = true)\n",
      "\n"
     ]
    }
   ],
   "source": [
    "#print Schema\n",
    "products_loaded.printSchema()"
   ]
  }
 ],
 "metadata": {
  "kernelspec": {
   "display_name": "Python 3",
   "language": "python",
   "name": "python3"
  },
  "language_info": {
   "codemirror_mode": {
    "name": "ipython",
    "version": 3
   },
   "file_extension": ".py",
   "mimetype": "text/x-python",
   "name": "python",
   "nbconvert_exporter": "python",
   "pygments_lexer": "ipython3",
   "version": "3.8.5"
  },
  "toc": {
   "base_numbering": 1,
   "nav_menu": {},
   "number_sections": true,
   "sideBar": true,
   "skip_h1_title": false,
   "title_cell": "Table of Contents",
   "title_sidebar": "Contents",
   "toc_cell": false,
   "toc_position": {},
   "toc_section_display": true,
   "toc_window_display": false
  }
 },
 "nbformat": 4,
 "nbformat_minor": 5
}
